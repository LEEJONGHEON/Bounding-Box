{
  "cells": [
    {
      "cell_type": "code",
      "execution_count": null,
      "metadata": {
        "colab": {
          "base_uri": "https://localhost:8080/"
        },
        "id": "Qm5rRgC7u1Gv",
        "outputId": "ef32ecbb-331d-4239-f4ad-671eca7d240f"
      },
      "outputs": [
        {
          "output_type": "stream",
          "name": "stdout",
          "text": [
            "Cloning into 'Yolo-to-COCO-format-converter'...\n",
            "remote: Enumerating objects: 255, done.\u001b[K\n",
            "remote: Counting objects: 100% (48/48), done.\u001b[K\n",
            "remote: Compressing objects: 100% (24/24), done.\u001b[K\n",
            "remote: Total 255 (delta 34), reused 29 (delta 24), pack-reused 207\u001b[K\n",
            "Receiving objects: 100% (255/255), 30.92 MiB | 29.73 MiB/s, done.\n",
            "Resolving deltas: 100% (52/52), done.\n"
          ]
        }
      ],
      "source": [
        "!git clone https://github.com/Taeyoung96/Yolo-to-COCO-format-converter"
      ]
    },
    {
      "cell_type": "code",
      "source": [
        "%cd Yolo-to-COCO-format-converter/"
      ],
      "metadata": {
        "colab": {
          "base_uri": "https://localhost:8080/"
        },
        "id": "J1x8rWMTVAdN",
        "outputId": "4e7c16a4-556c-4404-ac10-63bb0dd7e08c"
      },
      "execution_count": null,
      "outputs": [
        {
          "output_type": "stream",
          "name": "stdout",
          "text": [
            "/content/Yolo-to-COCO-format-converter\n"
          ]
        }
      ]
    },
    {
      "cell_type": "markdown",
      "source": [
        "# 파일 경로 생성 코드\n",
        "- path_image_folder : 이미지폴더\n",
        "- path_txt : txt 생성할 위치와이름"
      ],
      "metadata": {
        "id": "hm-eK3v1Wg6N"
      }
    },
    {
      "cell_type": "code",
      "source": [
        "!python path_replacer.py --path_image_folder /content/Yolo-to-COCO-format-converter/tutorial/train --path_txt /content/Yolo-to-COCO-format-converter/tutorial/train.txt"
      ],
      "metadata": {
        "colab": {
          "base_uri": "https://localhost:8080/"
        },
        "id": "GVh5BztIMior",
        "outputId": "35020d6a-b85c-4651-e4e0-50c3bcf5d0aa"
      },
      "execution_count": null,
      "outputs": [
        {
          "output_type": "stream",
          "name": "stdout",
          "text": [
            "----File \".txt\" created successfully----\n"
          ]
        }
      ]
    },
    {
      "cell_type": "markdown",
      "source": [
        "# json 생성 코드\n",
        "- path :train.txt 위치(파일 위치있는 파일)\n",
        "- output : 생성될 파일이름\n"
      ],
      "metadata": {
        "id": "bhoo1voiXcox"
      }
    },
    {
      "cell_type": "code",
      "source": [
        "!python main.py --path /content/Yolo-to-COCO-format-converter/tutorial/train.txt --output train.json"
      ],
      "metadata": {
        "colab": {
          "base_uri": "https://localhost:8080/"
        },
        "id": "Rv9dPK8XXCO6",
        "outputId": "74ba716f-b3a4-403d-d50b-e8b52a2d90e5"
      },
      "execution_count": null,
      "outputs": [
        {
          "output_type": "stream",
          "name": "stdout",
          "text": [
            "Start!\n",
            "\rProcessing 0 ...\rProcessing 1 ...\rProcessing 2 ...\rProcessing 3 ...\rProcessing 4 ...\rProcessing 5 ...\rProcessing 6 ...\rProcessing 7 ...\rProcessing 8 ...\rProcessing 9 ...\rProcessing 10 ...\rProcessing 11 ...\rProcessing 12 ...\rProcessing 13 ...\rProcessing 14 ...\rProcessing 15 ...\rProcessing 16 ...\rProcessing 17 ...\rProcessing 18 ...\rProcessing 19 ...\rProcessing 20 ...\rProcessing 21 ...\rProcessing 22 ...\rProcessing 23 ...\rProcessing 24 ...\rProcessing 25 ...\rProcessing 26 ...\rProcessing 27 ...\rProcessing 28 ...\rProcessing 29 ...\rProcessing 30 ...\rProcessing 31 ...\rProcessing 32 ...\rProcessing 33 ...\rProcessing 34 ...\rProcessing 35 ...\rProcessing 36 ...\rProcessing 37 ...\rProcessing 38 ...\rProcessing 39 ...\rProcessing 40 ...\rProcessing 41 ...\rProcessing 42 ...\rProcessing 43 ...\rProcessing 44 ...\rProcessing 45 ...\rProcessing 46 ...\rProcessing 47 ...\rProcessing 48 ...\rProcessing 49 ...\rProcessing 50 ...\rProcessing 51 ...\rProcessing 52 ...\rProcessing 53 ...\rProcessing 54 ...\rProcessing 55 ...\rProcessing 56 ...\rProcessing 57 ...\rProcessing 58 ...\rProcessing 59 ...\rProcessing 60 ...\rProcessing 61 ...\rProcessing 62 ...\rProcessing 63 ...\rProcessing 64 ...\rProcessing 65 ...\rProcessing 66 ...\rProcessing 67 ...\rProcessing 68 ...\rProcessing 69 ...\rProcessing 70 ...\rProcessing 71 ...\rProcessing 72 ...\rProcessing 73 ...\rProcessing 74 ...Finished!\n"
          ]
        }
      ]
    },
    {
      "cell_type": "code",
      "source": [
        "!python main.py --path /content/Yolo-to-COCO-format-converter/tutorial/train.txt --output train.json --debug"
      ],
      "metadata": {
        "id": "qu6JU02ri9ef"
      },
      "execution_count": null,
      "outputs": []
    },
    {
      "cell_type": "markdown",
      "source": [
        "# dataset_root_dit/\n",
        "- jpg 와 txt\n",
        "- python main.py --path Absolute path to dataset_root_dir --output Name of the json file\n",
        "## ![image.png](data:image/png;base64,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)"
      ],
      "metadata": {
        "id": "IqMFvuBqkHBp"
      }
    },
    {
      "cell_type": "code",
      "source": [
        "!python main.py --path /content/Yolo-to-COCO-format-converter/tutorial --output train.json"
      ],
      "metadata": {
        "colab": {
          "base_uri": "https://localhost:8080/"
        },
        "id": "8kaYlAnLi_He",
        "outputId": "74705e94-ff2c-4373-a1fb-8159df3007f4"
      },
      "execution_count": 19,
      "outputs": [
        {
          "output_type": "stream",
          "name": "stdout",
          "text": [
            "Start!\n",
            "\rProcessing 0 ...\rProcessing 1 ...\rProcessing 2 ...\rProcessing 3 ...\rProcessing 4 ...\rProcessing 5 ...\rProcessing 6 ...\rProcessing 7 ...\rProcessing 8 ...\rProcessing 9 ...\rProcessing 10 ...\rProcessing 11 ...\rProcessing 12 ...\rProcessing 13 ...\rProcessing 14 ...\rProcessing 15 ...\rProcessing 16 ...\rProcessing 17 ...\rProcessing 18 ...\rProcessing 19 ...\rProcessing 20 ...\rProcessing 21 ...\rProcessing 22 ...\rProcessing 23 ...\rProcessing 24 ...\rProcessing 25 ...\rProcessing 26 ...\rProcessing 27 ...\rProcessing 28 ...\rProcessing 29 ...\rProcessing 30 ...\rProcessing 31 ...\rProcessing 32 ...\rProcessing 33 ...\rProcessing 34 ...\rProcessing 35 ...\rProcessing 36 ...\rProcessing 37 ...\rProcessing 38 ...\rProcessing 39 ...\rProcessing 40 ...\rProcessing 41 ...\rProcessing 42 ...\rProcessing 43 ...\rProcessing 44 ...\rProcessing 45 ...\rProcessing 46 ...\rProcessing 47 ...\rProcessing 48 ...\rProcessing 49 ...\rProcessing 50 ...\rProcessing 51 ...\rProcessing 52 ...\rProcessing 53 ...\rProcessing 54 ...\rProcessing 55 ...\rProcessing 56 ...\rProcessing 57 ...\rProcessing 58 ...\rProcessing 59 ...\rProcessing 60 ...\rProcessing 61 ...\rProcessing 62 ...\rProcessing 63 ...\rProcessing 64 ...\rProcessing 65 ...\rProcessing 66 ...\rProcessing 67 ...\rProcessing 68 ...\rProcessing 69 ...\rProcessing 70 ...\rProcessing 71 ...\rProcessing 72 ...\rProcessing 73 ...\rProcessing 74 ...Finished!\n"
          ]
        }
      ]
    },
    {
      "cell_type": "markdown",
      "source": [
        ""
      ],
      "metadata": {
        "id": "i_6sjK3_X5Ub"
      }
    }
  ],
  "metadata": {
    "colab": {
      "name": "YOLO_TO_COCO.ipynb",
      "provenance": [],
      "collapsed_sections": []
    },
    "kernelspec": {
      "display_name": "Python 3",
      "name": "python3"
    },
    "language_info": {
      "name": "python"
    }
  },
  "nbformat": 4,
  "nbformat_minor": 0
}