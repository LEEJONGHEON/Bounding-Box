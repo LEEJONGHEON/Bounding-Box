{
  "cells": [
    {
      "cell_type": "code",
      "execution_count": 8,
      "metadata": {
        "colab": {
          "base_uri": "https://localhost:8080/"
        },
        "id": "Qm5rRgC7u1Gv",
        "outputId": "ef32ecbb-331d-4239-f4ad-671eca7d240f"
      },
      "outputs": [
        {
          "output_type": "stream",
          "name": "stdout",
          "text": [
            "Cloning into 'Yolo-to-COCO-format-converter'...\n",
            "remote: Enumerating objects: 255, done.\u001b[K\n",
            "remote: Counting objects: 100% (48/48), done.\u001b[K\n",
            "remote: Compressing objects: 100% (24/24), done.\u001b[K\n",
            "remote: Total 255 (delta 34), reused 29 (delta 24), pack-reused 207\u001b[K\n",
            "Receiving objects: 100% (255/255), 30.92 MiB | 29.73 MiB/s, done.\n",
            "Resolving deltas: 100% (52/52), done.\n"
          ]
        }
      ],
      "source": [
        "!git clone https://github.com/Taeyoung96/Yolo-to-COCO-format-converter"
      ]
    },
    {
      "cell_type": "code",
      "source": [
        "%cd Yolo-to-COCO-format-converter/"
      ],
      "metadata": {
        "colab": {
          "base_uri": "https://localhost:8080/"
        },
        "id": "J1x8rWMTVAdN",
        "outputId": "4e7c16a4-556c-4404-ac10-63bb0dd7e08c"
      },
      "execution_count": 9,
      "outputs": [
        {
          "output_type": "stream",
          "name": "stdout",
          "text": [
            "/content/Yolo-to-COCO-format-converter\n"
          ]
        }
      ]
    },
    {
      "cell_type": "markdown",
      "source": [
        "# 파일 경로 생성 코드\n",
        "- path_image_folder : 이미지폴더\n",
        "- path_txt : txt 생성할 위치와이름"
      ],
      "metadata": {
        "id": "hm-eK3v1Wg6N"
      }
    },
    {
      "cell_type": "code",
      "source": [
        "!python path_replacer.py --path_image_folder /content/Yolo-to-COCO-format-converter/tutorial/train --path_txt /content/Yolo-to-COCO-format-converter/tutorial/train.txt"
      ],
      "metadata": {
        "colab": {
          "base_uri": "https://localhost:8080/"
        },
        "id": "GVh5BztIMior",
        "outputId": "35020d6a-b85c-4651-e4e0-50c3bcf5d0aa"
      },
      "execution_count": 11,
      "outputs": [
        {
          "output_type": "stream",
          "name": "stdout",
          "text": [
            "----File \".txt\" created successfully----\n"
          ]
        }
      ]
    },
    {
      "cell_type": "markdown",
      "source": [
        "# json 생성 코드\n",
        "- path :train.txt 위치(파일 위치있는 파일)\n",
        "- output : 생성될 파일이름\n"
      ],
      "metadata": {
        "id": "bhoo1voiXcox"
      }
    },
    {
      "cell_type": "code",
      "source": [
        "!python main.py --path /content/Yolo-to-COCO-format-converter/tutorial/train.txt --output train.json"
      ],
      "metadata": {
        "colab": {
          "base_uri": "https://localhost:8080/"
        },
        "id": "Rv9dPK8XXCO6",
        "outputId": "74ba716f-b3a4-403d-d50b-e8b52a2d90e5"
      },
      "execution_count": 16,
      "outputs": [
        {
          "output_type": "stream",
          "name": "stdout",
          "text": [
            "Start!\n",
            "\rProcessing 0 ...\rProcessing 1 ...\rProcessing 2 ...\rProcessing 3 ...\rProcessing 4 ...\rProcessing 5 ...\rProcessing 6 ...\rProcessing 7 ...\rProcessing 8 ...\rProcessing 9 ...\rProcessing 10 ...\rProcessing 11 ...\rProcessing 12 ...\rProcessing 13 ...\rProcessing 14 ...\rProcessing 15 ...\rProcessing 16 ...\rProcessing 17 ...\rProcessing 18 ...\rProcessing 19 ...\rProcessing 20 ...\rProcessing 21 ...\rProcessing 22 ...\rProcessing 23 ...\rProcessing 24 ...\rProcessing 25 ...\rProcessing 26 ...\rProcessing 27 ...\rProcessing 28 ...\rProcessing 29 ...\rProcessing 30 ...\rProcessing 31 ...\rProcessing 32 ...\rProcessing 33 ...\rProcessing 34 ...\rProcessing 35 ...\rProcessing 36 ...\rProcessing 37 ...\rProcessing 38 ...\rProcessing 39 ...\rProcessing 40 ...\rProcessing 41 ...\rProcessing 42 ...\rProcessing 43 ...\rProcessing 44 ...\rProcessing 45 ...\rProcessing 46 ...\rProcessing 47 ...\rProcessing 48 ...\rProcessing 49 ...\rProcessing 50 ...\rProcessing 51 ...\rProcessing 52 ...\rProcessing 53 ...\rProcessing 54 ...\rProcessing 55 ...\rProcessing 56 ...\rProcessing 57 ...\rProcessing 58 ...\rProcessing 59 ...\rProcessing 60 ...\rProcessing 61 ...\rProcessing 62 ...\rProcessing 63 ...\rProcessing 64 ...\rProcessing 65 ...\rProcessing 66 ...\rProcessing 67 ...\rProcessing 68 ...\rProcessing 69 ...\rProcessing 70 ...\rProcessing 71 ...\rProcessing 72 ...\rProcessing 73 ...\rProcessing 74 ...Finished!\n"
          ]
        }
      ]
    },
    {
      "cell_type": "markdown",
      "source": [
        ""
      ],
      "metadata": {
        "id": "i_6sjK3_X5Ub"
      }
    },
    {
      "cell_type": "code",
      "source": [
        "!python main.py --path /content/Yolo-to-COCO-format-converter/tutorial/train.txt --output train --debug"
      ],
      "metadata": {
        "colab": {
          "base_uri": "https://localhost:8080/"
        },
        "id": "CIs-3p8pX_9U",
        "outputId": "5b01b296-484b-4b02-b26a-c06e8ab360eb"
      },
      "execution_count": 18,
      "outputs": [
        {
          "output_type": "stream",
          "name": "stdout",
          "text": [
            "Start!\n",
            "Image Path :  /content/Yolo-to-COCO-format-converter/tutorial/train/door931.jpg\n",
            "\n",
            "class name : handle\n",
            "x_upper_left :  161.5 \t y_upper_left :  712.5\n",
            "width :  87 \t \t height :  55\n",
            "\n",
            ": cannot connect to X server \n"
          ]
        }
      ]
    }
  ],
  "metadata": {
    "colab": {
      "name": "Untitled0.ipynb",
      "provenance": []
    },
    "kernelspec": {
      "display_name": "Python 3",
      "name": "python3"
    },
    "language_info": {
      "name": "python"
    }
  },
  "nbformat": 4,
  "nbformat_minor": 0
}